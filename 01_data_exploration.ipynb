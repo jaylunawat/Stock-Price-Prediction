{
 "cells": [
  {
   "cell_type": "markdown",
   "metadata": {},
   "source": [
    "# Stock Price Prediction - Data Exploration\n",
    "\n",
    "This notebook explores the historical stock data collected for our prediction models.\n",
    "We'll analyze price patterns, volume trends, and basic statistics."
   ]
  },
  {
   "cell_type": "code",
   "execution_count": null,
   "metadata": {},
   "outputs": [],
   "source": [
    "import sys\n",
    "sys.path.append('../src')\n",
    "\n",
    "import pandas as pd\n",
    "import numpy as np\n",
    "import matplotlib.pyplot as plt\n",
    "import seaborn as sns\n",
    "import yfinance as yf\n",
    "from datetime import datetime, timedelta\n",
    "\n",
    "# Import our custom modules\n",
    "from data_collection import StockDataCollector\n",
    "\n",
    "# Set style for plots\n",
    "plt.style.use('seaborn-v0_8')\n",
    "sns.set_palette('husl')\n",
    "%matplotlib inline"
   ]
  },
  {
   "cell_type": "markdown",
   "metadata": {},
   "source": [
    "## 1. Data Collection\n",
    "\n",
    "Let's collect historical data for some popular stocks."
   ]
  },
  {
   "cell_type": "code",
   "execution_count": null,
   "metadata": {},
   "outputs": [],
   "source": [
    "# Initialize data collector\n",
    "collector = StockDataCollector()\n",
    "\n",
    "# Define stocks to analyze\n",
    "stocks = ['AAPL', 'GOOGL', 'MSFT', 'AMZN', 'TSLA']\n",
    "\n",
    "# Download data\n",
    "stock_data = collector.download_multiple_stocks(stocks, period='2y')\n",
    "\n",
    "print(f'Downloaded data for {len(stock_data)} stocks')"
   ]
  },
  {
   "cell_type": "markdown",
   "metadata": {},
   "source": [
    "## 2. Basic Data Overview"
   ]
  },
  {
   "cell_type": "code",
   "execution_count": null,
   "metadata": {},
   "outputs": [],
   "source": [
    "# Display basic information for each stock\n",
    "for ticker, data in stock_data.items():\n",
    "    print(f'\\n{ticker} Data Overview:')\n",
    "    print(f'Shape: {data.shape}')\n",
    "    print(f'Date range: {data.index[0]} to {data.index[-1]}')\n",
    "    print(f'Columns: {data.columns.tolist()}')\n",
    "    print(data.head())"
   ]
  },
  {
   "cell_type": "markdown",
   "metadata": {},
   "source": [
    "## 3. Price Trends Analysis"
   ]
  },
  {
   "cell_type": "code",
   "execution_count": null,
   "metadata": {},
   "outputs": [],
   "source": [
    "# Plot closing prices for all stocks\n",
    "fig, ax = plt.subplots(figsize=(15, 8))\n",
    "\n",
    "for ticker, data in stock_data.items():\n",
    "    ax.plot(data.index, data['Close'], label=ticker, linewidth=2)\n",
    "\n",
    "ax.set_title('Stock Price Trends (2 Years)', fontsize=16)\n",
    "ax.set_xlabel('Date', fontsize=12)\n",
    "ax.set_ylabel('Price ($)', fontsize=12)\n",
    "ax.legend()\n",
    "ax.grid(True, alpha=0.3)\n",
    "plt.xticks(rotation=45)\n",
    "plt.tight_layout()\n",
    "plt.show()"
   ]
  },
  {
   "cell_type": "code",
   "execution_count": null,
   "metadata": {},
   "outputs": [],
   "source": [
    "# Normalize prices to compare relative performance\n",
    "fig, ax = plt.subplots(figsize=(15, 8))\n",
    "\n",
    "for ticker, data in stock_data.items():\n",
    "    normalized_prices = data['Close'] / data['Close'].iloc[0] * 100\n",
    "    ax.plot(data.index, normalized_prices, label=ticker, linewidth=2)\n",
    "\n",
    "ax.set_title('Normalized Stock Performance (Base = 100)', fontsize=16)\n",
    "ax.set_xlabel('Date', fontsize=12)\n",
    "ax.set_ylabel('Normalized Price', fontsize=12)\n",
    "ax.legend()\n",
    "ax.grid(True, alpha=0.3)\n",
    "plt.xticks(rotation=45)\n",
    "plt.tight_layout()\n",
    "plt.show()"
   ]
  },
  {
   "cell_type": "markdown",
   "metadata": {},
   "source": [
    "## 4. Volume Analysis"
   ]
  },
  {
   "cell_type": "code",
   "execution_count": null,
   "metadata": {},
   "outputs": [],
   "source": [
    "# Plot trading volumes\n",
    "fig, axes = plt.subplots(len(stocks), 1, figsize=(15, 4*len(stocks)))\n",
    "\n",
    "for i, (ticker, data) in enumerate(stock_data.items()):\n",
    "    axes[i].bar(data.index, data['Volume'], alpha=0.7)\n",
    "    axes[i].set_title(f'{ticker} Trading Volume')\n",
    "    axes[i].set_ylabel('Volume')\n",
    "    axes[i].grid(True, alpha=0.3)\n",
    "\n",
    "plt.tight_layout()\n",
    "plt.show()"
   ]
  },
  {
   "cell_type": "markdown",
   "metadata": {},
   "source": [
    "## 5. Statistical Analysis"
   ]
  },
  {
   "cell_type": "code",
   "execution_count": null,
   "metadata": {},
   "outputs": [],
   "source": [
    "# Calculate basic statistics for each stock\n",
    "stats_summary = []\n",
    "\n",
    "for ticker, data in stock_data.items():\n",
    "    daily_returns = data['Close'].pct_change().dropna()\n",
    "    \n",
    "    stats = {\n",
    "        'Ticker': ticker,\n",
    "        'Mean_Price': data['Close'].mean(),\n",
    "        'Std_Price': data['Close'].std(),\n",
    "        'Min_Price': data['Close'].min(),\n",
    "        'Max_Price': data['Close'].max(),\n",
    "        'Mean_Daily_Return': daily_returns.mean(),\n",
    "        'Std_Daily_Return': daily_returns.std(),\n",
    "        'Skewness': daily_returns.skew(),\n",
    "        'Kurtosis': daily_returns.kurtosis(),\n",
    "        'Total_Return': (data['Close'].iloc[-1] - data['Close'].iloc[0]) / data['Close'].iloc[0] * 100\n",
    "    }\n",
    "    stats_summary.append(stats)\n",
    "\n",
    "stats_df = pd.DataFrame(stats_summary)\n",
    "print('Statistical Summary:')\n",
    "print(stats_df.round(4))"
   ]
  },
  {
   "cell_type": "markdown",
   "metadata": {},
   "source": [
    "## 6. Correlation Analysis"
   ]
  },
  {
   "cell_type": "code",
   "execution_count": null,
   "metadata": {},
   "outputs": [],
   "source": [
    "# Create a DataFrame with all closing prices\n",
    "price_data = pd.DataFrame()\n",
    "for ticker, data in stock_data.items():\n",
    "    price_data[ticker] = data['Close']\n",
    "\n",
    "# Calculate correlation matrix\n",
    "correlation_matrix = price_data.corr()\n",
    "\n",
    "# Plot correlation heatmap\n",
    "plt.figure(figsize=(10, 8))\n",
    "sns.heatmap(correlation_matrix, annot=True, cmap='coolwarm', center=0,\n",
    "            square=True, linewidths=0.5)\n",
    "plt.title('Stock Price Correlation Matrix')\n",
    "plt.tight_layout()\n",
    "plt.show()"
   ]
  },
  {
   "cell_type": "code",
   "execution_count": null,
   "metadata": {},
   "outputs": [],
   "source": [
    "# Daily returns correlation\n",
    "returns_data = pd.DataFrame()\n",
    "for ticker, data in stock_data.items():\n",
    "    returns_data[ticker] = data['Close'].pct_change()\n",
    "\n",
    "returns_correlation = returns_data.corr()\n",
    "\n",
    "plt.figure(figsize=(10, 8))\n",
    "sns.heatmap(returns_correlation, annot=True, cmap='coolwarm', center=0,\n",
    "            square=True, linewidths=0.5)\n",
    "plt.title('Daily Returns Correlation Matrix')\n",
    "plt.tight_layout()\n",
    "plt.show()"
   ]
  },
  {
   "cell_type": "markdown",
   "metadata": {},
   "source": [
    "## 7. Risk-Return Analysis"
   ]
  },
  {
   "cell_type": "code",
   "execution_count": null,
   "metadata": {},
   "outputs": [],
   "source": [
    "# Risk-return scatter plot\n",
    "fig, ax = plt.subplots(figsize=(12, 8))\n",
    "\n",
    "for ticker, data in stock_data.items():\n",
    "    daily_returns = data['Close'].pct_change().dropna()\n",
    "    annual_return = daily_returns.mean() * 252\n",
    "    annual_volatility = daily_returns.std() * np.sqrt(252)\n",
    "    \n",
    "    ax.scatter(annual_volatility, annual_return, s=100, alpha=0.7, label=ticker)\n",
    "    ax.annotate(ticker, (annual_volatility, annual_return), \n",
    "                xytext=(5, 5), textcoords='offset points')\n",
    "\n",
    "ax.set_xlabel('Annual Volatility (Risk)')\n",
    "ax.set_ylabel('Annual Return')\n",
    "ax.set_title('Risk-Return Analysis')\n",
    "ax.grid(True, alpha=0.3)\n",
    "ax.legend()\n",
    "plt.tight_layout()\n",
    "plt.show()"
   ]
  },
  {
   "cell_type": "markdown",
   "metadata": {},
   "source": [
    "## 8. Candlestick Analysis (Focus on one stock)"
   ]
  },
  {
   "cell_type": "code",
   "execution_count": null,
   "metadata": {},
   "outputs": [],
   "source": [
    "# Detailed analysis for AAPL\n",
    "aapl_data = stock_data['AAPL']\n",
    "\n",
    "# Plot OHLC data\n",
    "fig, (ax1, ax2) = plt.subplots(2, 1, figsize=(15, 12))\n",
    "\n",
    "# Price chart\n",
    "ax1.plot(aapl_data.index, aapl_data['Close'], label='Close', linewidth=2)\n",
    "ax1.fill_between(aapl_data.index, aapl_data['Low'], aapl_data['High'], \n",
    "                 alpha=0.3, label='High-Low Range')\n",
    "ax1.set_title('AAPL - Detailed Price Analysis')\n",
    "ax1.set_ylabel('Price ($)')\n",
    "ax1.legend()\n",
    "ax1.grid(True, alpha=0.3)\n",
    "\n",
    "# Volume chart\n",
    "ax2.bar(aapl_data.index, aapl_data['Volume'], alpha=0.7, color='orange')\n",
    "ax2.set_title('AAPL - Trading Volume')\n",
    "ax2.set_xlabel('Date')\n",
    "ax2.set_ylabel('Volume')\n",
    "ax2.grid(True, alpha=0.3)\n",
    "\n",
    "plt.tight_layout()\n",
    "plt.show()"
   ]
  },
  {
   "cell_type": "markdown",
   "metadata": {},
   "source": [
    "## 9. Data Quality Assessment"
   ]
  },
  {
   "cell_type": "code",
   "execution_count": null,
   "metadata": {},
   "outputs": [],
   "source": [
    "# Check for missing values and data quality issues\n",
    "print('Data Quality Assessment:')\n",
    "print('=' * 50)\n",
    "\n",
    "for ticker, data in stock_data.items():\n",
    "    print(f'\\n{ticker}:')\n",
    "    print(f'  Missing values: {data.isnull().sum().sum()}')\n",
    "    print(f'  Duplicate dates: {data.index.duplicated().sum()}')\n",
    "    print(f'  Zero volume days: {(data["Volume"] == 0).sum()}')\n",
    "    \n",
    "    # Check for potential outliers\n",
    "    price_changes = data['Close'].pct_change().abs()\n",
    "    extreme_changes = price_changes > 0.2  # More than 20% change\n",
    "    print(f'  Days with >20% price change: {extreme_changes.sum()}')"
   ]
  },
  {
   "cell_type": "markdown",
   "metadata": {},
   "source": [
    "## 10. Key Insights and Conclusions\n",
    "\n",
    "Based on our data exploration, we can draw several key insights:\n",
    "\n",
    "1. **Price Trends**: [Add your observations about price trends]\n",
    "2. **Volatility Patterns**: [Add your observations about volatility]\n",
    "3. **Correlation Structure**: [Add your observations about correlations]\n",
    "4. **Volume Patterns**: [Add your observations about volume]\n",
    "5. **Data Quality**: [Add your observations about data quality]\n",
    "\n",
    "These insights will inform our feature engineering and model selection in the next notebooks."
   ]
  }
 ],
 "metadata": {
  "kernelspec": {
   "display_name": "Python 3",
   "language": "python",
   "name": "python3"
  },
  "language_info": {
   "codemirror_mode": {
    "name": "ipython",
    "version": 3
   },
   "file_extension": ".py",
   "name": "python",
   "nbconvert_exporter": "python",
   "pygments_lexer": "ipython3",
   "version": "3.8.0"
  }
 },
 "nbformat": 4,
 "nbformat_minor": 4
}
